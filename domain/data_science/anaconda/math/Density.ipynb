{
 "cells": [
  {
   "cell_type": "markdown",
   "id": "e62ace67",
   "metadata": {},
   "source": [
    "$\\sum_{n=1}^{10} n^2$\n",
    "$$\\sum_{n=1}^{10} n^2$$"
   ]
  },
  {
   "cell_type": "markdown",
   "id": "e317c337",
   "metadata": {},
   "source": [
    "Linear density\n",
    "\\begin{equation*}\n",
    "dm =\\lambda \\cdot dx\n",
    "\\end{equation*}"
   ]
  },
  {
   "cell_type": "code",
   "execution_count": null,
   "id": "604f77be",
   "metadata": {},
   "outputs": [],
   "source": []
  }
 ],
 "metadata": {
  "kernelspec": {
   "display_name": "Python 3",
   "language": "python",
   "name": "python3"
  },
  "language_info": {
   "codemirror_mode": {
    "name": "ipython",
    "version": 3
   },
   "file_extension": ".py",
   "mimetype": "text/x-python",
   "name": "python",
   "nbconvert_exporter": "python",
   "pygments_lexer": "ipython3",
   "version": "3.8.8"
  }
 },
 "nbformat": 4,
 "nbformat_minor": 5
}
