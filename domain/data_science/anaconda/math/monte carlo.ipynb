{
 "cells": [
  {
   "cell_type": "code",
   "execution_count": 21,
   "id": "bf4f70f1",
   "metadata": {},
   "outputs": [],
   "source": [
    "from IPython.display import display\n",
    "\n",
    "import matplotlib.pyplot as plt\n",
    "import numpy as np\n",
    "# if using a Jupyter notebook, includue:\n",
    "%matplotlib inline"
   ]
  },
  {
   "cell_type": "code",
   "execution_count": 22,
   "id": "c5030190",
   "metadata": {},
   "outputs": [],
   "source": [
    "NB_SIMULATION = 20000\n",
    "NB_YEAR = 7"
   ]
  },
  {
   "cell_type": "code",
   "execution_count": 23,
   "id": "b84ad357",
   "metadata": {},
   "outputs": [],
   "source": [
    "# Gausian random\n",
    "mu = 80\n",
    "sigma = 7\n",
    "x = np.random.normal(mu, sigma, size=NB_SIMULATION)"
   ]
  },
  {
   "cell_type": "code",
   "execution_count": null,
   "id": "27b4763e",
   "metadata": {},
   "outputs": [],
   "source": []
  },
  {
   "cell_type": "code",
   "execution_count": 29,
   "id": "b3bf1503",
   "metadata": {},
   "outputs": [
    {
     "data": {
      "text/plain": [
       "'x:'"
      ]
     },
     "metadata": {},
     "output_type": "display_data"
    },
    {
     "data": {
      "text/plain": [
       "array([89.86261867, 88.4553845 , 89.37219788, ..., 83.03874824,\n",
       "       81.56864637, 80.82789586])"
      ]
     },
     "metadata": {},
     "output_type": "display_data"
    },
    {
     "data": {
      "text/plain": [
       "'x.shape:'"
      ]
     },
     "metadata": {},
     "output_type": "display_data"
    },
    {
     "data": {
      "text/plain": [
       "(20000,)"
      ]
     },
     "metadata": {},
     "output_type": "display_data"
    }
   ],
   "source": [
    "# Check x\n",
    "display('x:')\n",
    "display(x)\n",
    "display('x.shape:')\n",
    "display(x.shape)"
   ]
  },
  {
   "cell_type": "code",
   "execution_count": null,
   "id": "2065b05e",
   "metadata": {},
   "outputs": [],
   "source": []
  },
  {
   "cell_type": "code",
   "execution_count": 30,
   "id": "795f5f19",
   "metadata": {},
   "outputs": [
    {
     "data": {
      "image/png": "[encoded data removed]",
      "text/plain": [
       "<Figure size 432x288 with 1 Axes>"
      ]
     },
     "metadata": {
      "needs_background": "light"
     },
     "output_type": "display_data"
    }
   ],
   "source": [
    "plt.hist(x, 40,\n",
    "         density=True,\n",
    "         histtype='bar',\n",
    "         facecolor='b',\n",
    "         alpha=0.5)\n",
    "\n",
    "plt.show()"
   ]
  }
 ],
 "metadata": {
  "kernelspec": {
   "display_name": "Python 3",
   "language": "python",
   "name": "python3"
  },
  "language_info": {
   "codemirror_mode": {
    "name": "ipython",
    "version": 3
   },
   "file_extension": ".py",
   "mimetype": "text/x-python",
   "name": "python",
   "nbconvert_exporter": "python",
   "pygments_lexer": "ipython3",
   "version": "3.8.8"
  }
 },
 "nbformat": 4,
 "nbformat_minor": 5
}
