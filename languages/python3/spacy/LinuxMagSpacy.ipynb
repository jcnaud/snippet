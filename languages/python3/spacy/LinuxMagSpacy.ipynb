{
 "cells": [
  {
   "cell_type": "code",
   "execution_count": 2,
   "metadata": {
    "colab": {
     "autoexec": {
      "startup": false,
      "wait_interval": 0
     }
    },
    "colab_type": "code",
    "id": "uDMNGj81eiaR"
   },
   "outputs": [
    {
     "name": "stdout",
     "output_type": "stream",
     "text": [
      "Solving environment: ...working... done\n",
      "\n",
      "# All requested packages already installed.\n",
      "\n"
     ]
    }
   ],
   "source": [
    "!conda install spacy"
   ]
  },
  {
   "cell_type": "code",
   "execution_count": 3,
   "metadata": {},
   "outputs": [
    {
     "name": "stderr",
     "output_type": "stream",
     "text": [
      "Traceback (most recent call last):\n",
      "  File \"E:\\Install\\anaconda3\\lib\\runpy.py\", line 183, in _run_module_as_main\n",
      "    mod_name, mod_spec, code = _get_module_details(mod_name, _Error)\n",
      "  File \"E:\\Install\\anaconda3\\lib\\runpy.py\", line 142, in _get_module_details\n",
      "    return _get_module_details(pkg_main_name, error)\n",
      "  File \"E:\\Install\\anaconda3\\lib\\runpy.py\", line 109, in _get_module_details\n",
      "    __import__(pkg_name)\n",
      "  File \"E:\\Install\\anaconda3\\lib\\site-packages\\spacy\\__init__.py\", line 4, in <module>\n",
      "    from .cli.info import info as cli_info\n",
      "  File \"E:\\Install\\anaconda3\\lib\\site-packages\\spacy\\cli\\__init__.py\", line 1, in <module>\n",
      "    from .download import download\n",
      "  File \"E:\\Install\\anaconda3\\lib\\site-packages\\spacy\\cli\\download.py\", line 11, in <module>\n",
      "    from .link import link\n",
      "  File \"E:\\Install\\anaconda3\\lib\\site-packages\\spacy\\cli\\link.py\", line 8, in <module>\n",
      "    from ..compat import symlink_to, path2str\n",
      "  File \"E:\\Install\\anaconda3\\lib\\site-packages\\spacy\\compat.py\", line 9, in <module>\n",
      "    from thinc.neural.util import copy_array\n",
      "  File \"E:\\Install\\anaconda3\\lib\\site-packages\\thinc\\neural\\__init__.py\", line 1, in <module>\n",
      "    from ._classes.model import Model\n",
      "  File \"E:\\Install\\anaconda3\\lib\\site-packages\\thinc\\neural\\_classes\\model.py\", line 2, in <module>\n",
      "    from numpy import prod\n",
      "  File \"E:\\Install\\anaconda3\\lib\\site-packages\\numpy\\__init__.py\", line 158, in <module>\n",
      "    from . import add_newdocs\n",
      "ImportError: cannot import name 'add_newdocs'\n"
     ]
    }
   ],
   "source": [
    "!python -m spacy download fr_core_news_md"
   ]
  },
  {
   "cell_type": "markdown",
   "metadata": {
    "colab_type": "text",
    "id": "22g96wDxrb1j"
   },
   "source": [
    "# Extractions de différentes informations\n",
    "\n",
    "Voici les tag de *part of speech* :\n"
   ]
  },
  {
   "cell_type": "code",
   "execution_count": 2,
   "metadata": {
    "colab": {
     "autoexec": {
      "startup": false,
      "wait_interval": 0
     },
     "base_uri": "https://localhost:8080/",
     "height": 34
    },
    "colab_type": "code",
    "executionInfo": {
     "elapsed": 24739,
     "status": "ok",
     "timestamp": 1529313482727,
     "user": {
      "displayName": "Ugo Cupcic",
      "photoUrl": "//lh4.googleusercontent.com/-WekCrd6tYzo/AAAAAAAAAAI/AAAAAAAAAAg/I6TLjrt6Pq8/s50-c-k-no/photo.jpg",
      "userId": "108344344344240562730"
     },
     "user_tz": -120
    },
    "id": "iSHCfS_lf6PN",
    "outputId": "02c4dab1-b291-44fd-dfe3-5721a74bcd1b"
   },
   "outputs": [
    {
     "ename": "ModuleNotFoundError",
     "evalue": "No module named 'spacy'",
     "output_type": "error",
     "traceback": [
      "\u001b[1;31m---------------------------------------------------------------------------\u001b[0m",
      "\u001b[1;31mModuleNotFoundError\u001b[0m                       Traceback (most recent call last)",
      "\u001b[1;32m<ipython-input-2-5cea04a2c150>\u001b[0m in \u001b[0;36m<module>\u001b[1;34m()\u001b[0m\n\u001b[1;32m----> 1\u001b[1;33m \u001b[1;32mimport\u001b[0m \u001b[0mspacy\u001b[0m\u001b[1;33m\u001b[0m\u001b[0m\n\u001b[0m\u001b[0;32m      2\u001b[0m \u001b[0mnlp\u001b[0m \u001b[1;33m=\u001b[0m \u001b[0mspacy\u001b[0m\u001b[1;33m.\u001b[0m\u001b[0mload\u001b[0m\u001b[1;33m(\u001b[0m\u001b[1;34m\"fr_core_news_md\"\u001b[0m\u001b[1;33m)\u001b[0m\u001b[1;33m\u001b[0m\u001b[0m\n\u001b[0;32m      3\u001b[0m \u001b[1;33m\u001b[0m\u001b[0m\n\u001b[0;32m      4\u001b[0m \u001b[0mdoc\u001b[0m \u001b[1;33m=\u001b[0m \u001b[0mnlp\u001b[0m\u001b[1;33m(\u001b[0m\u001b[1;34mu\"Bonjour le monde de Linux Mag\"\u001b[0m\u001b[1;33m)\u001b[0m\u001b[1;33m\u001b[0m\u001b[0m\n\u001b[0;32m      5\u001b[0m \u001b[0mprint\u001b[0m\u001b[1;33m(\u001b[0m\u001b[1;33m[\u001b[0m\u001b[1;33m(\u001b[0m\u001b[0mword\u001b[0m\u001b[1;33m.\u001b[0m\u001b[0mtext\u001b[0m\u001b[1;33m,\u001b[0m \u001b[0mword\u001b[0m\u001b[1;33m.\u001b[0m\u001b[0mpos_\u001b[0m\u001b[1;33m)\u001b[0m \u001b[1;32mfor\u001b[0m \u001b[0mword\u001b[0m \u001b[1;32min\u001b[0m \u001b[0mdoc\u001b[0m\u001b[1;33m]\u001b[0m\u001b[1;33m)\u001b[0m\u001b[1;33m\u001b[0m\u001b[0m\n",
      "\u001b[1;31mModuleNotFoundError\u001b[0m: No module named 'spacy'"
     ]
    }
   ],
   "source": [
    "import spacy\n",
    "nlp = spacy.load(\"fr_core_news_md\")\n",
    "\n",
    "doc = nlp(u\"Bonjour le monde de Linux Mag\")\n",
    "print([(word.text, word.pos_) for word in doc])"
   ]
  },
  {
   "cell_type": "markdown",
   "metadata": {
    "colab_type": "text",
    "id": "VS_F7CpqrwY7"
   },
   "source": [
    "Et maintenant, regardons les *Lemma*"
   ]
  },
  {
   "cell_type": "code",
   "execution_count": 118,
   "metadata": {
    "colab": {
     "autoexec": {
      "startup": false,
      "wait_interval": 0
     },
     "base_uri": "https://localhost:8080/",
     "height": 34
    },
    "colab_type": "code",
    "executionInfo": {
     "elapsed": 528,
     "status": "ok",
     "timestamp": 1529313495263,
     "user": {
      "displayName": "Ugo Cupcic",
      "photoUrl": "//lh4.googleusercontent.com/-WekCrd6tYzo/AAAAAAAAAAI/AAAAAAAAAAg/I6TLjrt6Pq8/s50-c-k-no/photo.jpg",
      "userId": "108344344344240562730"
     },
     "user_tz": -120
    },
    "id": "wsbIjQuOhP1_",
    "outputId": "ee0c932d-cad1-494d-9ee9-1cc54dfe1e06"
   },
   "outputs": [
    {
     "name": "stdout",
     "output_type": "stream",
     "text": [
      "Nous  adorer  ce  magazine  qui  être  très  intéresser  . \n"
     ]
    }
   ],
   "source": [
    "doc = nlp(u\"Nous adorons ce magazine qui est très intéressant.\")\n",
    "print(\" \".join([word.lemma_ + \" \" for  word in doc]))"
   ]
  },
  {
   "cell_type": "markdown",
   "metadata": {
    "colab_type": "text",
    "id": "VglUDO2yr5OE"
   },
   "source": [
    "Nous pouvons aussi identifier des groupes de mots qui représente un seul concept: les *noun chunks*."
   ]
  },
  {
   "cell_type": "code",
   "execution_count": 4,
   "metadata": {
    "colab": {
     "autoexec": {
      "startup": false,
      "wait_interval": 0
     },
     "base_uri": "https://localhost:8080/",
     "height": 34
    },
    "colab_type": "code",
    "executionInfo": {
     "elapsed": 555,
     "status": "ok",
     "timestamp": 1528986564231,
     "user": {
      "displayName": "Ugo Cupcic",
      "photoUrl": "//lh4.googleusercontent.com/-WekCrd6tYzo/AAAAAAAAAAI/AAAAAAAAAAg/I6TLjrt6Pq8/s50-c-k-no/photo.jpg",
      "userId": "108344344344240562730"
     },
     "user_tz": -120
    },
    "id": "wqtn7tBXiqEL",
    "outputId": "30f0c089-7600-4b47-f406-f560244200d6"
   },
   "outputs": [
    {
     "name": "stdout",
     "output_type": "stream",
     "text": [
      "d'intelligence artificielle\n"
     ]
    }
   ],
   "source": [
    "doc = nlp(u\"Nous allons parler d'intelligence artificielle.\")\n",
    "\n",
    "for noun_chunk in doc.noun_chunks:\n",
    "    if \" \" in noun_chunk.text:\n",
    "        print noun_chunk.text"
   ]
  },
  {
   "cell_type": "markdown",
   "metadata": {
    "colab_type": "text",
    "id": "psuBBbAGsJ44"
   },
   "source": [
    "# Travail sur la similarité\n",
    "\n",
    "## Distance entre des mots\n",
    "\n",
    "Etudions la similarité de ces quelques mots:"
   ]
  },
  {
   "cell_type": "code",
   "execution_count": 5,
   "metadata": {
    "colab": {
     "autoexec": {
      "startup": false,
      "wait_interval": 0
     },
     "base_uri": "https://localhost:8080/",
     "height": 68
    },
    "colab_type": "code",
    "executionInfo": {
     "elapsed": 541,
     "status": "ok",
     "timestamp": 1528986568055,
     "user": {
      "displayName": "Ugo Cupcic",
      "photoUrl": "//lh4.googleusercontent.com/-WekCrd6tYzo/AAAAAAAAAAI/AAAAAAAAAAg/I6TLjrt6Pq8/s50-c-k-no/photo.jpg",
      "userId": "108344344344240562730"
     },
     "user_tz": -120
    },
    "id": "s7FPy384i3Oe",
    "outputId": "4d45c6ba-9f5d-43d2-d12e-a3b9a4ef7030"
   },
   "outputs": [
    {
     "name": "stdout",
     "output_type": "stream",
     "text": [
      "similarité fraise-framboise: 1.0000000315623996\n",
      "similarité fraise-journal: -0.07691960231022113\n",
      "similarité framboise-journal: -0.07691960231022113\n"
     ]
    }
   ],
   "source": [
    "fraise = nlp(u\"fraise\")\n",
    "framboise = nlp(u\"framboise\")\n",
    "journal = nlp(u\"journal\")\n",
    "\n",
    "print \"similarité fraise-framboise: \" + str(fraise.similarity(framboise))\n",
    "print \"similarité fraise-journal: \" + str(fraise.similarity(journal))\n",
    "print \"similarité framboise-journal: \" + str(framboise.similarity(journal))"
   ]
  },
  {
   "cell_type": "markdown",
   "metadata": {
    "colab_type": "text",
    "id": "URGoMLCljZjV"
   },
   "source": [
    "Utilisation un peu plus poussée des vecteurs word2vec à la base de notre similarité:"
   ]
  },
  {
   "cell_type": "code",
   "execution_count": 115,
   "metadata": {
    "colab": {
     "autoexec": {
      "startup": false,
      "wait_interval": 0
     },
     "base_uri": "https://localhost:8080/",
     "height": 102
    },
    "colab_type": "code",
    "executionInfo": {
     "elapsed": 540,
     "status": "ok",
     "timestamp": 1529313196333,
     "user": {
      "displayName": "Ugo Cupcic",
      "photoUrl": "//lh4.googleusercontent.com/-WekCrd6tYzo/AAAAAAAAAAI/AAAAAAAAAAg/I6TLjrt6Pq8/s50-c-k-no/photo.jpg",
      "userId": "108344344344240562730"
     },
     "user_tz": -120
    },
    "id": "wrywQtHRlrzu",
    "outputId": "7deac1fb-7e8b-4e57-a6ad-8807b89c6d46"
   },
   "outputs": [
    {
     "name": "stdout",
     "output_type": "stream",
     "text": [
      "3.738354\n",
      "5.751394\n",
      "2.1855164\n",
      "5.302343\n",
      "0.9809576099177234\n"
     ]
    }
   ],
   "source": [
    "print norm(nlp(u'Paris').vector - nlp(u'France').vector)\n",
    "print norm(nlp(u'Rome').vector - nlp(u'Italie').vector)\n",
    "print norm(nlp(u'Madrid').vector - nlp(u'Espagne').vector)\n",
    "print norm(nlp(u'Moscou').vector - nlp(u'Russie').vector)\n",
    "\n",
    "print cosine(nlp(u'Paris').vector - nlp(u'France').vector, nlp(u'capitale').vector)"
   ]
  },
  {
   "cell_type": "markdown",
   "metadata": {
    "colab_type": "text",
    "id": "055gCkQqsXnb"
   },
   "source": [
    "## Distance entre des phrases\n",
    "\n",
    "La mesure de similarité s'applique également à des phrases"
   ]
  },
  {
   "cell_type": "code",
   "execution_count": 6,
   "metadata": {
    "colab": {
     "autoexec": {
      "startup": false,
      "wait_interval": 0
     },
     "base_uri": "https://localhost:8080/",
     "height": 51
    },
    "colab_type": "code",
    "executionInfo": {
     "elapsed": 575,
     "status": "ok",
     "timestamp": 1528986570752,
     "user": {
      "displayName": "Ugo Cupcic",
      "photoUrl": "//lh4.googleusercontent.com/-WekCrd6tYzo/AAAAAAAAAAI/AAAAAAAAAAg/I6TLjrt6Pq8/s50-c-k-no/photo.jpg",
      "userId": "108344344344240562730"
     },
     "user_tz": -120
    },
    "id": "sQvx6ja-jOPh",
    "outputId": "925558b2-0865-43e9-da79-a40912d31975"
   },
   "outputs": [
    {
     "name": "stdout",
     "output_type": "stream",
     "text": [
      "similarité entre les deux premières phrases: 0.8731641705836984\n",
      "similarité entre la première et la dernière phrases: 0.6476781686527907\n"
     ]
    }
   ],
   "source": [
    "\n",
    "phrase_1 = nlp(u\"Ce journal est très intéressant.\")\n",
    "phrase_2 = nlp(u\"Ce magazine est vraiment passionnant.\")\n",
    "phrase_3 = nlp(u\"Je bois un thé en écrivant mon article.\")\n",
    "\n",
    "sim_1_2 = phrase_1.similarity(phrase_2)\n",
    "sim_1_3 = phrase_1.similarity(phrase_3)\n",
    "print \"similarité entre les deux premières phrases: \" + str(sim_1_2)\n",
    "print \"similarité entre la première et la dernière phrases: \" + str(sim_1_3)\n"
   ]
  },
  {
   "cell_type": "markdown",
   "metadata": {
    "colab_type": "text",
    "id": "Zjo3fYoosidz"
   },
   "source": [
    "Mais elle présente des limitations:"
   ]
  },
  {
   "cell_type": "code",
   "execution_count": 7,
   "metadata": {
    "colab": {
     "autoexec": {
      "startup": false,
      "wait_interval": 0
     },
     "base_uri": "https://localhost:8080/",
     "height": 51
    },
    "colab_type": "code",
    "executionInfo": {
     "elapsed": 569,
     "status": "ok",
     "timestamp": 1528986573303,
     "user": {
      "displayName": "Ugo Cupcic",
      "photoUrl": "//lh4.googleusercontent.com/-WekCrd6tYzo/AAAAAAAAAAI/AAAAAAAAAAg/I6TLjrt6Pq8/s50-c-k-no/photo.jpg",
      "userId": "108344344344240562730"
     },
     "user_tz": -120
    },
    "id": "2Fqdj6OeqN79",
    "outputId": "35465f60-7832-4368-f723-22dba40578c8"
   },
   "outputs": [
    {
     "name": "stdout",
     "output_type": "stream",
     "text": [
      "similarité entre les deux premières phrases: 0.6727251318633605\n",
      "similarité entre la première et la dernière phrases: 0.8187913427933178\n"
     ]
    }
   ],
   "source": [
    "\n",
    "phrase_1 = nlp(u\"Ce journal est très intéressant.\")\n",
    "phrase_2 = nlp(u\"Je trouve cette revue passionante.\")\n",
    "phrase_3 = nlp(u\"Ce thé est vraiment délicieux.\")\n",
    "\n",
    "sim_1_2 = phrase_1.similarity(phrase_2)\n",
    "sim_1_3 = phrase_1.similarity(phrase_3)\n",
    "print \"similarité entre les deux premières phrases: \" + str(sim_1_2)\n",
    "print \"similarité entre la première et la dernière phrases: \" + str(sim_1_3)\n"
   ]
  },
  {
   "cell_type": "markdown",
   "metadata": {
    "colab_type": "text",
    "id": "ijuaOh2XsuMO"
   },
   "source": [
    "Simplifions nos phrases et recalculons des similarités:"
   ]
  },
  {
   "cell_type": "code",
   "execution_count": 8,
   "metadata": {
    "colab": {
     "autoexec": {
      "startup": false,
      "wait_interval": 0
     },
     "base_uri": "https://localhost:8080/",
     "height": 153
    },
    "colab_type": "code",
    "executionInfo": {
     "elapsed": 533,
     "status": "ok",
     "timestamp": 1528986576241,
     "user": {
      "displayName": "Ugo Cupcic",
      "photoUrl": "//lh4.googleusercontent.com/-WekCrd6tYzo/AAAAAAAAAAI/AAAAAAAAAAg/I6TLjrt6Pq8/s50-c-k-no/photo.jpg",
      "userId": "108344344344240562730"
     },
     "user_tz": -120
    },
    "id": "8BSJPRrowZ0z",
    "outputId": "c01dbf21-2d3e-4acd-fdeb-18ac272f2e95"
   },
   "outputs": [
    {
     "name": "stdout",
     "output_type": "stream",
     "text": [
      "----\n",
      "Phrase complete: \"Ce thé est vraiment délicieux\" => simplication: \"thé délicieux \"\n",
      "Phrase complete: \"Je trouve cette revue passionante\" => simplication: \"trouver revu passionante \"\n",
      "Similarité:0.047787801947603605\n",
      "----\n",
      "Phrase complete: \"Ce thé est vraiment délicieux\" => simplication: \"thé délicieux \"\n",
      "Phrase complete: \"Ce thé est un délice.\" => simplication: \"thé délice \"\n",
      "Similarité:1.0000000477387012\n"
     ]
    }
   ],
   "source": [
    "def simplifier(sentence):\n",
    "    sentence_as_NLP = nlp(sentence)\n",
    "    simplified_sentence = \"\"\n",
    "    for word in sentence_as_NLP:\n",
    "        if word.pos_ in [\"PROPN\", \"NOUN\", \"VERB\", \"ADJ\"]:\n",
    "            simplified_sentence += word.lemma_ + \" \"\n",
    "            \n",
    "    print (\"Phrase complete: \\\"\" + sentence + \"\\\" => simplication: \\\"\" + simplified_sentence + \"\\\"\")\n",
    "    return simplified_sentence\n",
    "\n",
    "def similarity(sentence1, sentence2):\n",
    "    return nlp(sentence1).similarity(nlp(sentence2))\n",
    "\n",
    "sentence1 = u\"Ce thé est vraiment délicieux\"\n",
    "sentence2 = u\"Je trouve cette revue passionante\"\n",
    "sentence3 = u\"Ce thé est un délice.\"\n",
    "\n",
    "print \"----\"\n",
    "print \"Similarité:\" + str(similarity(simplifier(sentence1), simplifier(sentence2)))\n",
    "\n",
    "print \"----\"\n",
    "print \"Similarité:\" + str(similarity(simplifier(sentence1), simplifier(sentence3)))"
   ]
  },
  {
   "cell_type": "markdown",
   "metadata": {
    "colab_type": "text",
    "id": "N8k3kQlrs870"
   },
   "source": [
    "Nous avons toujours des limitations:"
   ]
  },
  {
   "cell_type": "code",
   "execution_count": 9,
   "metadata": {
    "colab": {
     "autoexec": {
      "startup": false,
      "wait_interval": 0
     },
     "base_uri": "https://localhost:8080/",
     "height": 68
    },
    "colab_type": "code",
    "executionInfo": {
     "elapsed": 577,
     "status": "ok",
     "timestamp": 1528986608087,
     "user": {
      "displayName": "Ugo Cupcic",
      "photoUrl": "//lh4.googleusercontent.com/-WekCrd6tYzo/AAAAAAAAAAI/AAAAAAAAAAg/I6TLjrt6Pq8/s50-c-k-no/photo.jpg",
      "userId": "108344344344240562730"
     },
     "user_tz": -120
    },
    "id": "ucvhZXI-zCBU",
    "outputId": "c4ab1d5a-6cee-4432-a1b8-3bb3b774f237"
   },
   "outputs": [
    {
     "name": "stdout",
     "output_type": "stream",
     "text": [
      "Phrase complete: \"J'aime le thé.\" => simplication: \"aimer thé \"\n",
      "Phrase complete: \"Je n'aime pas le thé\" => simplication: \"aimer thé \"\n",
      "Similarité:1.0\n"
     ]
    }
   ],
   "source": [
    "\n",
    "print \"Similarité:\" + str(similarity(simplifier(u\"J'aime le thé.\"), simplifier(u\"Je n'aime pas le thé\")))\n"
   ]
  }
 ],
 "metadata": {
  "accelerator": "GPU",
  "colab": {
   "collapsed_sections": [],
   "default_view": {},
   "name": "LinuxMagSpacy.ipynb",
   "provenance": [],
   "version": "0.3.2",
   "views": {}
  },
  "kernelspec": {
   "display_name": "Python 3",
   "language": "python",
   "name": "python3"
  },
  "language_info": {
   "codemirror_mode": {
    "name": "ipython",
    "version": 3
   },
   "file_extension": ".py",
   "mimetype": "text/x-python",
   "name": "python",
   "nbconvert_exporter": "python",
   "pygments_lexer": "ipython3",
   "version": "3.6.5"
  }
 },
 "nbformat": 4,
 "nbformat_minor": 1
}
