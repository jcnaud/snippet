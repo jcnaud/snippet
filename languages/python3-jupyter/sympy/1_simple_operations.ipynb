{
 "cells": [
  {
   "cell_type": "markdown",
   "metadata": {},
   "source": [
    "# Mathematique for A to Z"
   ]
  },
  {
   "cell_type": "markdown",
   "metadata": {},
   "source": [
    "# Operation\n",
    "\n",
    "\n",
    "| Operation | neutral element |cancel by   | cancel action  |\n",
    "|-----------|-----------------|------------|----------------|\n",
    "| addition  | 0               |substraction| opposite       |\n",
    "| multiplication  | 1         |division    | inverte        |\n",
    "| power x   | 1               |racine x    | power -x       |\n",
    "\n",
    "\n"
   ]
  },
  {
   "cell_type": "markdown",
   "metadata": {},
   "source": [
    "## Addition "
   ]
  },
  {
   "cell_type": "code",
   "execution_count": 1,
   "metadata": {},
   "outputs": [
    {
     "name": "stdout",
     "output_type": "stream",
     "text": [
      "Addition neutral element:\n",
      "a + 0 = a\n",
      "Cancel by substraction:\n",
      "a - a = 0\n",
      "Addition Comutatif:\n",
      "a + b = a + b\n",
      "Soustraction Comutatif:\n",
      "a - b ≠ -a + b\n"
     ]
    }
   ],
   "source": [
    "from sympy import *\n",
    "\n",
    "a, b = symbols('a b')\n",
    "\n",
    "print(\"Addition neutral element:\")\n",
    "eq1 = a + UnevaluatedExpr(0)\n",
    "eq2 = a\n",
    "if eq1.doit() == eq2:  # Test if equation equality\n",
    "    pprint(relational.Eq(eq1, eq2))\n",
    "\n",
    "print(\"Cancel by substraction:\")\n",
    "eq1 = a - UnevaluatedExpr(a)\n",
    "eq2 = 0\n",
    "if eq1.doit() == eq2:  # Test if equation equality\n",
    "    pprint(relational.Eq(eq1, eq2))\n",
    "\n",
    "print(\"Addition Comutatif:\")\n",
    "eq1 = a + UnevaluatedExpr(b)\n",
    "eq2 = b + a\n",
    "if eq1.doit() == eq2:  # Test if equation equality\n",
    "    pprint(relational.Eq(eq1, eq2))\n",
    "\n",
    "print(\"Soustraction Comutatif:\")\n",
    "eq1 = a - UnevaluatedExpr(b)\n",
    "eq2 = b - a\n",
    "if eq1.doit() != eq2:  # Test if equation equality\n",
    "    pprint(Ne(eq1, eq2))\n"
   ]
  },
  {
   "cell_type": "code",
   "execution_count": 2,
   "metadata": {},
   "outputs": [
    {
     "ename": "ModuleNotFoundError",
     "evalue": "No module named 'ipympl'",
     "output_type": "error",
     "traceback": [
      "\u001b[1;31m---------------------------------------------------------------------------\u001b[0m",
      "\u001b[1;31mModuleNotFoundError\u001b[0m                       Traceback (most recent call last)",
      "\u001b[1;32m<ipython-input-2-911d02baff26>\u001b[0m in \u001b[0;36m<module>\u001b[1;34m()\u001b[0m\n\u001b[1;32m----> 1\u001b[1;33m \u001b[1;32mimport\u001b[0m \u001b[0mipympl\u001b[0m\u001b[1;33m\u001b[0m\u001b[0m\n\u001b[0m\u001b[0;32m      2\u001b[0m \u001b[1;32mimport\u001b[0m \u001b[0mmatplotlib\u001b[0m\u001b[1;33m.\u001b[0m\u001b[0mpyplot\u001b[0m \u001b[1;32mas\u001b[0m \u001b[0mplt\u001b[0m\u001b[1;33m\u001b[0m\u001b[0m\n\u001b[0;32m      3\u001b[0m \u001b[1;33m\u001b[0m\u001b[0m\n\u001b[0;32m      4\u001b[0m \u001b[0mplt\u001b[0m\u001b[1;33m.\u001b[0m\u001b[0mplot\u001b[0m\u001b[1;33m(\u001b[0m\u001b[1;33m[\u001b[0m\u001b[1;36m0\u001b[0m\u001b[1;33m,\u001b[0m \u001b[1;36m1\u001b[0m\u001b[1;33m,\u001b[0m \u001b[1;36m2\u001b[0m\u001b[1;33m,\u001b[0m \u001b[1;36m2\u001b[0m\u001b[1;33m]\u001b[0m\u001b[1;33m)\u001b[0m\u001b[1;33m\u001b[0m\u001b[0m\n\u001b[0;32m      5\u001b[0m \u001b[0mplt\u001b[0m\u001b[1;33m.\u001b[0m\u001b[0mshow\u001b[0m\u001b[1;33m(\u001b[0m\u001b[1;33m)\u001b[0m\u001b[1;33m\u001b[0m\u001b[0m\n",
      "\u001b[1;31mModuleNotFoundError\u001b[0m: No module named 'ipympl'"
     ]
    }
   ],
   "source": [
    "import ipympl\n",
    "import matplotlib.pyplot as plt\n",
    "\n",
    "plt.plot([0, 1, 2, 2])\n",
    "plt.show()"
   ]
  },
  {
   "cell_type": "code",
   "execution_count": 29,
   "metadata": {},
   "outputs": [
    {
     "name": "stdout",
     "output_type": "stream",
     "text": [
      "proof\n",
      "addition neutral element:\n",
      "8+0 = 8\n",
      "addition cancel by substraction:\n",
      "8+5-5 = 8\n",
      "multiplication neutral element:\n",
      "8*1 = 8\n",
      "multiplication cancel by division:\n",
      "8*5/5 = 8.0\n",
      "power x neutral element:\n",
      "8**3 = 512\n",
      "power x cancel by power 1/x:\n",
      "8**3**-3 = 1.080059738892306\n"
     ]
    }
   ],
   "source": [
    "print(\"proof\")\n",
    "print(\"addition neutral element:\")\n",
    "print(\"8+0 = {}\".format(8+0))\n",
    "print(\"addition cancel by substraction:\")\n",
    "print(\"8+5-5 = {}\".format(8+5-5))\n",
    "print(\"multiplication neutral element:\")\n",
    "print(\"8*1 = {}\".format(8*1))\n",
    "print(\"multiplication cancel by division:\")\n",
    "print(\"8*5/5 = {}\".format(8*5/5))\n",
    "\n",
    "print(\"power x neutral element:\")\n",
    "print(\"8**3 = {}\".format(8**3))\n",
    "print(\"power x cancel by power 1/x:\")\n",
    "print(\"8**3**-3 = {}\".format(8**3**-3))\n"
   ]
  },
  {
   "cell_type": "code",
   "execution_count": 51,
   "metadata": {},
   "outputs": [
    {
     "ename": "ModuleNotFoundError",
     "evalue": "No module named 'cairo'",
     "output_type": "error",
     "traceback": [
      "\u001b[1;31m---------------------------------------------------------------------------\u001b[0m",
      "\u001b[1;31mModuleNotFoundError\u001b[0m                       Traceback (most recent call last)",
      "\u001b[1;32m<ipython-input-51-ac3a522ec193>\u001b[0m in \u001b[0;36m<module>\u001b[1;34m()\u001b[0m\n\u001b[1;32m----> 1\u001b[1;33m \u001b[1;32mimport\u001b[0m \u001b[0mcairo\u001b[0m\u001b[1;33m\u001b[0m\u001b[0m\n\u001b[0m\u001b[0;32m      2\u001b[0m \u001b[1;32mfrom\u001b[0m \u001b[0mcairo\u001b[0m \u001b[1;32mimport\u001b[0m \u001b[0mSVGSurface\u001b[0m\u001b[1;33m,\u001b[0m \u001b[0mContext\u001b[0m\u001b[1;33m,\u001b[0m \u001b[0mMatrix\u001b[0m\u001b[1;33m\u001b[0m\u001b[0m\n\u001b[0;32m      3\u001b[0m \u001b[0ms\u001b[0m \u001b[1;33m=\u001b[0m \u001b[0mSVGSurface\u001b[0m\u001b[1;33m(\u001b[0m\u001b[1;34m'example1.svg'\u001b[0m\u001b[1;33m,\u001b[0m \u001b[0mWIDTH\u001b[0m\u001b[1;33m,\u001b[0m \u001b[0mHEIGHT\u001b[0m\u001b[1;33m)\u001b[0m\u001b[1;33m\u001b[0m\u001b[0m\n\u001b[0;32m      4\u001b[0m \u001b[0mc\u001b[0m \u001b[1;33m=\u001b[0m \u001b[0mContext\u001b[0m\u001b[1;33m(\u001b[0m\u001b[0ms\u001b[0m\u001b[1;33m)\u001b[0m\u001b[1;33m\u001b[0m\u001b[0m\n\u001b[0;32m      5\u001b[0m \u001b[1;33m\u001b[0m\u001b[0m\n",
      "\u001b[1;31mModuleNotFoundError\u001b[0m: No module named 'cairo'"
     ]
    }
   ],
   "source": [
    "import cairo\n",
    "from cairo import SVGSurface, Context, Matrix    \n",
    "s = SVGSurface('example1.svg', WIDTH, HEIGHT)\n",
    "c = Context(s)\n",
    "\n",
    "# Transform to normal cartesian coordinate system\n",
    "m = Matrix(yy=-1, y0=HEIGHT)\n",
    "c.transform(m)\n",
    "\n",
    "# Set a background color\n",
    "c.save()\n",
    "c.set_source_rgb(0.3, 0.3, 1.0)\n",
    "c.paint()\n",
    "c.restore()\n",
    "\n",
    "# Draw some lines\n",
    "c.move_to(0, 0)\n",
    "c.line_to(2 * 72, 2* 72)\n",
    "c.line_to(3 * 72, 1 * 72)\n",
    "c.line_to(4 * 72, 2 * 72)\n",
    "c.line_to(6 * 72, 0)\n",
    "c.close_path()\n",
    "c.save()\n",
    "c.set_line_width(6.0)\n",
    "c.stroke_preserve()\n",
    "c.set_source_rgb(0.3, 0.3, 0.3)\n",
    "c.fill()\n",
    "c.restore()\n",
    "\n",
    "# Draw a circle\n",
    "c.save()\n",
    "c.set_line_width(6.0)\n",
    "c.arc(1 * 72, 3 * 72, 0.5 * 72, 0, 2 * pi)\n",
    "c.stroke_preserve()\n",
    "c.set_source_rgb(1.0, 1.0, 0)\n",
    "c.fill()\n",
    "c.restore()"
   ]
  }
 ],
 "metadata": {
  "kernelspec": {
   "display_name": "Python 3",
   "language": "python",
   "name": "python3"
  },
  "language_info": {
   "codemirror_mode": {
    "name": "ipython",
    "version": 3
   },
   "file_extension": ".py",
   "mimetype": "text/x-python",
   "name": "python",
   "nbconvert_exporter": "python",
   "pygments_lexer": "ipython3",
   "version": "3.7.0"
  }
 },
 "nbformat": 4,
 "nbformat_minor": 2
}
